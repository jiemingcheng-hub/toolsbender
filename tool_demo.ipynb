{
 "cells": [
  {
   "cell_type": "code",
   "execution_count": 1,
   "metadata": {},
   "outputs": [],
   "source": [
    "import os\n",
    "\n",
    "# 设置环境变量\n",
    "os.environ[\"OPENAI_API_KEY\"] = \"sk-GVtO7TUPj9ogA9pECbA7E3961e4946E58c47E437Fc60BcEa\"\n",
    "os.environ[\"OPENAI_BASE_URL\"] = \"https://open.xiaojingai.com/v1\""
   ]
  },
  {
   "cell_type": "code",
   "execution_count": 2,
   "metadata": {},
   "outputs": [],
   "source": [
    "from langgraph.prebuilt import create_react_agent\n",
    "from langchain_openai import ChatOpenAI\n",
    "from text_process_tools import *  \n",
    "\n",
    "llm = ChatOpenAI(model=\"gpt-4o\")\n",
    "agent = create_react_agent(model=llm, tools=[translate_tool, sentiment_analysis_sentence_tool])\n",
    "\n"
   ]
  },
  {
   "cell_type": "code",
   "execution_count": 4,
   "metadata": {},
   "outputs": [
    {
     "name": "stdout",
     "output_type": "stream",
     "text": [
      "================================\u001b[1m Human Message \u001b[0m=================================\n",
      "\n",
      "请将id为c266ddc6-ef22-46b0-9203-6e4ad65f5cc6的句子翻译为英文(en)，然后给出它的情感倾向与翻译后的句子id\n",
      "==================================\u001b[1m Ai Message \u001b[0m==================================\n",
      "Tool Calls:\n",
      "  translate_tool (call_j6ahlpb2AHI80cuDOmH7In1B)\n",
      " Call ID: call_j6ahlpb2AHI80cuDOmH7In1B\n",
      "  Args:\n",
      "    target_language: en\n",
      "    text_obj_id: c266ddc6-ef22-46b0-9203-6e4ad65f5cc6\n",
      "=================================\u001b[1m Tool Message \u001b[0m=================================\n",
      "Name: translate_tool\n",
      "\n",
      "8ad60a9a-1eb3-4cc9-932e-0120d71f856b\n",
      "==================================\u001b[1m Ai Message \u001b[0m==================================\n",
      "Tool Calls:\n",
      "  sentiment_analysis_sentence_tool (call_Wv4HhFEsL7pRjb5WFK5o6Zbb)\n",
      " Call ID: call_Wv4HhFEsL7pRjb5WFK5o6Zbb\n",
      "  Args:\n",
      "    sentence_id: 8ad60a9a-1eb3-4cc9-932e-0120d71f856b\n",
      "=================================\u001b[1m Tool Message \u001b[0m=================================\n",
      "Name: sentiment_analysis_sentence_tool\n",
      "\n",
      "pos\n",
      "==================================\u001b[1m Ai Message \u001b[0m==================================\n",
      "\n",
      "句子已被翻译为英文，其翻译后的句子ID为 \"8ad60a9a-1eb3-4cc9-932e-0120d71f856b\"。经过情感分析，其情感倾向为正向 (positive)。\n"
     ]
    }
   ],
   "source": [
    "prompt = \"\"\"请将id为c266ddc6-ef22-46b0-9203-6e4ad65f5cc6的句子翻译为英文(en)，然后给出它的情感倾向与翻译后的句子id\"\"\"\n",
    "# prompt = \"你好\"\n",
    "for chunk in agent.stream(\n",
    "    {\"messages\": [(\"human\", prompt)]}, stream_mode=\"values\"\n",
    "):\n",
    "    chunk[\"messages\"][-1].pretty_print()\n",
    "    # print(chunk[\"messages\"][-1])"
   ]
  }
 ],
 "metadata": {
  "kernelspec": {
   "display_name": "langchain",
   "language": "python",
   "name": "python3"
  },
  "language_info": {
   "codemirror_mode": {
    "name": "ipython",
    "version": 3
   },
   "file_extension": ".py",
   "mimetype": "text/x-python",
   "name": "python",
   "nbconvert_exporter": "python",
   "pygments_lexer": "ipython3",
   "version": "3.11.11"
  }
 },
 "nbformat": 4,
 "nbformat_minor": 2
}
