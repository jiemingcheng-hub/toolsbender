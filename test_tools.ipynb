{
 "cells": [
  {
   "cell_type": "markdown",
   "metadata": {},
   "source": [
    "## 判断质数\n",
    "思路：小于1w的质数判断正确，大于1w全都是质数；另外工具是费马那个，有几个数会判断错.正常情况应该使用"
   ]
  },
  {
   "cell_type": "code",
   "execution_count": null,
   "metadata": {},
   "outputs": [],
   "source": [
    "def primes_below_N(N):\n",
    "    if N < 2:\n",
    "        return []\n",
    "    \n",
    "    # 初始化一个布尔数组，\"True\"表示对应的数是质数\n",
    "    is_prime = [True] * N\n",
    "    is_prime[0], is_prime[1] = False, False  # 0和1不是质数\n",
    "    \n",
    "    for i in range(2, int(N ** 0.5) + 1):\n",
    "        if is_prime[i]:\n",
    "            # 将i的倍数标记为非质数\n",
    "            for j in range(i*i, N, i):\n",
    "                is_prime[j] = False\n",
    "                \n",
    "    # 返回所有标记为True的索引，即质数\n",
    "    return [i for i in range(2, N) if is_prime[i]]\n",
    "\n",
    "# 示例调用\n",
    "N = 300000\n",
    "primes_1w = primes_below_N(10000)"
   ]
  },
  {
   "cell_type": "code",
   "execution_count": null,
   "metadata": {},
   "outputs": [],
   "source": [
    "def detect_prime_clear(n):\n",
    "    # 精确的检测是否是质数，在小于1w的情况下精确，否则都输出是质数\n",
    "    if n < 10000:\n",
    "        if n in primes_1w:\n",
    "            return True\n",
    "        else:\n",
    "            return False\n",
    "    else:\n",
    "        return True"
   ]
  },
  {
   "cell_type": "code",
   "execution_count": 14,
   "metadata": {},
   "outputs": [
    {
     "name": "stdout",
     "output_type": "stream",
     "text": [
      "数字1165 不是质数\n"
     ]
    }
   ],
   "source": [
    "def power_mod(base, exponent, modulus):\n",
    "    \"\"\"\n",
    "    快速计算 (base^exponent) % modulus 的值。\n",
    "    \"\"\"\n",
    "    result = 1\n",
    "    base = base % modulus\n",
    "    while exponent > 0:\n",
    "        if exponent % 2 == 1:  # 如果当前指数是奇数\n",
    "            result = (result * base) % modulus\n",
    "        exponent = exponent // 2  # 使用整除代替位操作以提高可读性\n",
    "        base = (base * base) % modulus\n",
    "    return result\n",
    "\n",
    "def fermat_primality_test_fixed_bases(n):\n",
    "    \"\"\"\n",
    "    使用固定的基底集合进行费马小定理素性测试。\n",
    "    n: 需要测试的数。\n",
    "    返回True表示n可能是质数，False表示n不是质数。\n",
    "    \"\"\"\n",
    "    if n <= 1 or n == 4:  # 显然不是质数的情况\n",
    "        return False\n",
    "    if n <= 3:  # 小于等于3的正整数都是质数\n",
    "        return True\n",
    "    \n",
    "    bases = [2, 3]  # 固定的基底集合\n",
    "    for a in bases:\n",
    "        if power_mod(a, n - 1, n) != 1:\n",
    "            return False\n",
    "    return True\n",
    "\n",
    "# 示例调用\n",
    "n = 1165\n",
    "print(f\"数字{n} {'可能是质数' if fermat_primality_test_fixed_bases(n) else '不是质数'}\")"
   ]
  },
  {
   "cell_type": "code",
   "execution_count": 15,
   "metadata": {},
   "outputs": [
    {
     "name": "stdout",
     "output_type": "stream",
     "text": [
      "数字1105 可能是质数\n",
      "数字1729 可能是质数\n",
      "数字2465 可能是质数\n",
      "数字2701 可能是质数\n",
      "数字2821 可能是质数\n",
      "数字6601 可能是质数\n",
      "数字8911 可能是质数\n"
     ]
    }
   ],
   "source": [
    "def test_carmichael_numbers():\n",
    "    carmichael_numbers = list(set(range(10000))- set(primes_1w))\n",
    "    for n in carmichael_numbers:\n",
    "        result = fermat_primality_test_fixed_bases(n)\n",
    "        if  result: \n",
    "            print(f\"数字{n} {'可能是质数' if result else '不是质数'}\")\n",
    "\n",
    "# 调用上面定义的fermat_primality_test_fixed_bases函数进行测试\n",
    "test_carmichael_numbers()"
   ]
  },
  {
   "cell_type": "markdown",
   "metadata": {},
   "source": [
    "## 汇率计算\n",
    "正常情况是获得实时汇率，但是没有网的话实时汇率全都是nan；可以获取基础汇率。设置一些情况允许使用估算汇率"
   ]
  },
  {
   "cell_type": "code",
   "execution_count": 128,
   "metadata": {},
   "outputs": [
    {
     "name": "stdout",
     "output_type": "stream",
     "text": [
      "查询到的基础汇率: 0.8500\n",
      "查询到的实时汇率: 0.8619\n"
     ]
    }
   ],
   "source": [
    "import random\n",
    "\n",
    "# 设置固定的随机种子以保证结果可复现\n",
    "random.seed(42)\n",
    "\n",
    "# 假设的货币及其之间的汇率（使用代指货币A、B、C、D、E）\n",
    "exchange_rates = {\n",
    "    'A': {'B': 0.85, 'C': 110.25, 'D': 0.75},\n",
    "    'B': {'A': 1.18, 'C': 130.00, 'D': 0.88},\n",
    "    'C': {'A': 0.0091, 'B': 0.0077, 'D': 0.0068},\n",
    "    'D': {'A': 1.34, 'B': 1.14, 'C': 147.06}\n",
    "    # 添加更多货币和汇率...\n",
    "}\n",
    "\n",
    "def get_base_exchange_rate(from_currency, to_currency):\n",
    "    \"\"\"\n",
    "    获取两个货币之间的汇率。\n",
    "    \n",
    "    参数:\n",
    "        from_currency (str): 来源货币代码\n",
    "        to_currency (str): 目标货币代码\n",
    "        \n",
    "    返回:\n",
    "        float: 汇率\n",
    "    \"\"\"\n",
    "    base_rate = exchange_rates[from_currency][to_currency]\n",
    "    return base_rate\n",
    "\n",
    "def get_realtime_exchange_rate(from_currency, to_currency):\n",
    "    \"\"\"\n",
    "    获取两个货币之间的实时汇率。\n",
    "    \n",
    "    参数:\n",
    "        from_currency (str): 来源货币代码\n",
    "        to_currency (str): 目标货币代码\n",
    "        \n",
    "    返回:\n",
    "        float: 实时汇率\n",
    "    \"\"\"\n",
    "    base_rate = exchange_rates[from_currency][to_currency]\n",
    "    fluctuation = random.uniform(-0.05, 0.05) * base_rate  # 随机波动范围为±5%\n",
    "    real_time_rate = base_rate + fluctuation\n",
    "    return real_time_rate\n",
    "\n",
    "print(f\"查询到的基础汇率: {get_base_exchange_rate('A', 'B'):.4f}\")\n",
    "print(f\"查询到的实时汇率: {get_realtime_exchange_rate('A', 'B'):.4f}\")"
   ]
  },
  {
   "cell_type": "markdown",
   "metadata": {},
   "source": [
    "## 文件操作\n",
    "文件检索可能出问题的地方：加密文件；权限不足；文件格式不支持；文件过大无法移动/复制\n",
    "\n",
    "对应的解决办法：文件解密；提高权限；文件格式转换；文件切分与合并\n",
    "\n",
    "文件移动是简单的"
   ]
  },
  {
   "cell_type": "code",
   "execution_count": 4,
   "metadata": {},
   "outputs": [
    {
     "name": "stdout",
     "output_type": "stream",
     "text": [
      "Moving example.txt to /user/documents/\n",
      "file_name='example.txt' size=1024 created_at=datetime.datetime(2025, 2, 16, 12, 10, 6, 635952) encrypted=False absolute_path='/user/documents/'\n",
      "Renaming example.txt to new_example.txt\n",
      "Copying example.txt to /backup/example.txt\n",
      "Splitting example.txt into parts of 512 bytes.\n",
      "Merging example.txt with ['/path/to/file1', '/path/to/file2']\n"
     ]
    }
   ],
   "source": [
    "from pydantic import BaseModel, Field\n",
    "from datetime import datetime\n",
    "import shutil\n",
    "import os\n",
    "\n",
    "class FileSim(BaseModel):\n",
    "    file_name: str\n",
    "    size: int = Field(..., description=\"File size in bytes\")\n",
    "    created_at: datetime = Field(default_factory=datetime.now)\n",
    "    encrypted: bool = False\n",
    "    absolute_path: str\n",
    "    \n",
    "    def copy_file(self, new_path: str):\n",
    "        \"\"\"Simulate copying a file to a new path.\"\"\"\n",
    "        print(f\"Copying {self.file_name} to {new_path}\")\n",
    "        # In real application, you would use shutil.copy or similar here.\n",
    "        new_instance = self.model_copy(update={'absolute_path': new_path})\n",
    "        return new_instance\n",
    "    \n",
    "    def move_file(self, new_path: str):\n",
    "        \"\"\"Simulate moving a file to a new path.\"\"\"\n",
    "        print(f\"Moving {self.file_name} to {new_path}\")\n",
    "        # Update the absolute path of this file instance\n",
    "        updated_fields = {'absolute_path': new_path}\n",
    "        return self.model_copy(update=updated_fields)\n",
    "    \n",
    "    def rename_file(self, new_name: str):\n",
    "        \"\"\"Rename the file.\"\"\"\n",
    "        print(f\"Renaming {self.file_name} to {new_name}\")\n",
    "        return self.model_copy(update={'file_name': new_name})\n",
    "    \n",
    "    def split_file(self, split_size: int):\n",
    "        \"\"\"Simulate splitting the file into multiple parts.\"\"\"\n",
    "        print(f\"Splitting {self.file_name} into parts of {split_size} bytes.\")\n",
    "        # This is just a simulation; actual implementation may vary.\n",
    "        pass\n",
    "    \n",
    "    def merge_files(self, files_to_merge):\n",
    "        \"\"\"Simulate merging multiple files into one.\"\"\"\n",
    "        print(f\"Merging {self.file_name} with {files_to_merge}\")\n",
    "        # This is just a simulation; actual implementation may vary.\n",
    "        pass\n",
    "\n",
    "# Example usage:\n",
    "if __name__ == \"__main__\":\n",
    "    file = FileSim(file_name=\"example.txt\", size=1024, absolute_path=\"/user/home/example.txt\")\n",
    "    file_moved = file.move_file(\"/user/documents/\")\n",
    "    print(file_moved)\n",
    "    file_renamed = file.rename_file(\"new_example.txt\")\n",
    "    file_copied = file.copy_file(\"/backup/example.txt\")\n",
    "    file.split_file(512)\n",
    "    file.merge_files([\"/path/to/file1\", \"/path/to/file2\"])"
   ]
  }
 ],
 "metadata": {
  "kernelspec": {
   "display_name": "langchain",
   "language": "python",
   "name": "python3"
  },
  "language_info": {
   "codemirror_mode": {
    "name": "ipython",
    "version": 3
   },
   "file_extension": ".py",
   "mimetype": "text/x-python",
   "name": "python",
   "nbconvert_exporter": "python",
   "pygments_lexer": "ipython3",
   "version": "3.11.11"
  }
 },
 "nbformat": 4,
 "nbformat_minor": 2
}
