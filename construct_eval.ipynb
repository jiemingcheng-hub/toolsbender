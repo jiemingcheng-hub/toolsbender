{
 "cells": [
  {
   "cell_type": "code",
   "execution_count": 1,
   "metadata": {},
   "outputs": [],
   "source": [
    "import uuid\n",
    "from text_process_tools import *  # 假设text_process_tools.py在同一目录下"
   ]
  },
  {
   "cell_type": "code",
   "execution_count": null,
   "metadata": {},
   "outputs": [
    {
     "data": {
      "text/plain": [
       "1"
      ]
     },
     "execution_count": 19,
     "metadata": {},
     "output_type": "execute_result"
    }
   ],
   "source": [
    "# 问题一：翻译一个非英语的句子\n",
    "def test_1():\n",
    "    sentence1 = Sentence(content=[uuid4()], language=\"fr\", sentiment=\"neu\")\n",
    "    question = f\"请你将句子{sentence1.id}翻译为英语\"\n",
    "    def eval_1(submit_sentence_id):\n",
    "        obj = load_object_from_json(submit_sentence_id)\n",
    "        if obj.language == \"en\" and obj.content==sentence1.content:\n",
    "            return 1\n",
    "        else:\n",
    "            return 0\n",
    "    return question, eval_1, [sentence1.id]\n",
    "\n",
    "question, eval_fun, provided_info = test_1()\n",
    "translated_id = translate_tool(provided_info[0], \"en\")\n",
    "eval_fun(translated_id)\n"
   ]
  },
  {
   "cell_type": "code",
   "execution_count": null,
   "metadata": {},
   "outputs": [],
   "source": [
    "# 问题二：将一篇文章从中文翻译为英文，法文，德文,不会超过最大长度限制的版本\n",
    "Chaps = []\n",
    "for i in range(3):\n",
    "    Chap_sentences = []\n",
    "    for i in range(3):\n",
    "        s = Sentence(content=[uuid4()], language=\"zh\")\n",
    "        Chap_sentences.append(s)\n",
    "    chap = Chapter(sentences=Chap_sentences, language=\"zh\")\n",
    "    Chaps.append(chap)\n",
    "article = Article(chapters=Chaps, language=\"zh\")\n",
    "\n",
    "article_en_id = translate_tool(article.id, \"en\")\n",
    "\n",
    "def test_2():\n",
    "    Chaps = []\n",
    "    for i in range(3):\n",
    "        Chap_sentences = []\n",
    "        for i in range(3):\n",
    "            s = Sentence(content=[uuid4()], language=\"zh\")\n",
    "            Chap_sentences.append(s)\n",
    "        chap = Chapter(sentences=Chap_sentences, language=\"zh\")\n",
    "        Chaps.append(chap)\n",
    "    article = Article(chapters=Chaps, language=\"zh\")\n",
    "    question = f\"请你将下面的文章翻译成英文，德文和法文\"\n",
    "    def eval_2(submit_article_ids):\n",
    "        for aid in submit_article_ids:\n",
    "            if \n",
    "        "
   ]
  },
  {
   "cell_type": "code",
   "execution_count": 19,
   "metadata": {},
   "outputs": [
    {
     "name": "stdout",
     "output_type": "stream",
     "text": [
      "1346\n",
      "[UUID('133ddec8-dd02-4b83-a5e3-93eb26af5432'), UUID('be9cca67-90c5-4ac7-aa3a-e5c7e7c1dd65'), UUID('121d0449-c89a-46a8-b51d-34f1a18fd7b2')]\n",
      "fr\n",
      "True\n"
     ]
    }
   ],
   "source": [
    "# 问题三：将一篇文章从中文翻译为英文，法文，德文,会超过最大长度限制的版本\n",
    "Chaps = []\n",
    "for i in range(3):\n",
    "    Chap_sentences = []\n",
    "    for i in range(30):\n",
    "        s = Sentence(content=[uuid4()], language=\"zh\")\n",
    "        Chap_sentences.append(s)\n",
    "    chap = Chapter(sentences=Chap_sentences, language=\"zh\")\n",
    "    Chaps.append(chap)\n",
    "article = Article(chapters=Chaps, language=\"zh\")\n",
    "print(article.word_count)\n",
    "\n",
    "# 解决方案\n",
    "\n",
    "chaps_id = split_article_tool(article.id)\n",
    "print(chaps_id)\n",
    "T_chaps_id = []\n",
    "for chap_id in chaps_id:\n",
    "    translated_chap_id = translate_tool(chap_id, \"fr\") # 涉及到三个语言\n",
    "    T_chaps_id.append(translated_chap_id)\n",
    "translated_article_id = construct_article_tool(chapters_id=T_chaps_id)\n",
    "print(detect_language_tool(translated_article_id))\n",
    "translated_article = load_object_from_json(translated_article_id)\n",
    "print(set(translated_article.content)==set(article.content))"
   ]
  },
  {
   "cell_type": "code",
   "execution_count": 7,
   "metadata": {},
   "outputs": [
    {
     "name": "stdout",
     "output_type": "stream",
     "text": [
      "pos\n",
      "neu\n",
      "neu\n",
      "neu\n",
      "neu\n",
      "neg\n",
      "neg\n",
      "pos\n",
      "neu\n",
      "neg\n",
      "[UUID('9759d751-10cd-4322-b253-60a3866a9ee7'), UUID('3de1e89b-d36d-4359-9a1d-b9adad4c54ce')]\n"
     ]
    }
   ],
   "source": [
    "# 问题四：将所有情感为正向的句子拿出来组成一个篇章\n",
    "Sentences_id = []\n",
    "for i in range(10):\n",
    "    s = Sentence(content=[uuid4()], language=\"zh\")\n",
    "    Sentences_id.append(s.id)\n",
    "\n",
    "# 解决方案\n",
    "Chap_id = []\n",
    "for s_id in Sentences_id:\n",
    "    trans_id = translate_tool(s_id, \"en\")\n",
    "    senti = sentiment_analysis_sentence_tool(trans_id)\n",
    "    print(senti)\n",
    "    if senti==\"pos\":\n",
    "        Chap_id.append(s_id)\n",
    "chap_id = construct_chapter_tool(sentences_id=Chap_id)\n",
    "chap_obj = load_object_from_json(chap_id)\n",
    "print(chap_obj.content)\n",
    "\n"
   ]
  },
  {
   "cell_type": "code",
   "execution_count": 10,
   "metadata": {},
   "outputs": [
    {
     "name": "stdout",
     "output_type": "stream",
     "text": [
      "[Aspect_Sentiment(aspect_term='lunch', opinion='delicious', sentiment='pos'), Aspect_Sentiment(aspect_term='dining hall', opinion='frustrating', sentiment='neg')]\n"
     ]
    }
   ],
   "source": [
    "# 问题五：在句子中，学生表达了什么样的正向观点\n",
    "aos1 = Aspect_Sentiment(aspect_term=\"lunch\", opinion=\"delicious\", sentiment=\"pos\")\n",
    "aos2 = Aspect_Sentiment(aspect_term=\"dining hall\", opinion=\"frustrating\", sentiment=\"neg\")\n",
    "sentence = Sentence(content=[uuid4()], language=\"en\",aspect_based_sent=[aos1, aos2])\n",
    "\n",
    "# 解决方案\n",
    "aos = aspect_based_sentiment_analysis_tool(sentence.id)\n",
    "print(aos)\n"
   ]
  }
 ],
 "metadata": {
  "kernelspec": {
   "display_name": "langchain",
   "language": "python",
   "name": "python3"
  },
  "language_info": {
   "codemirror_mode": {
    "name": "ipython",
    "version": 3
   },
   "file_extension": ".py",
   "mimetype": "text/x-python",
   "name": "python",
   "nbconvert_exporter": "python",
   "pygments_lexer": "ipython3",
   "version": "3.11.11"
  }
 },
 "nbformat": 4,
 "nbformat_minor": 2
}
