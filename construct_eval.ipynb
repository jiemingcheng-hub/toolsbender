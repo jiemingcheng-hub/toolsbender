{
 "cells": [
  {
   "cell_type": "code",
   "execution_count": 1,
   "metadata": {},
   "outputs": [],
   "source": [
    "import uuid\n",
    "from text_process_tools import *  # 假设text_process_tools.py在同一目录下"
   ]
  },
  {
   "cell_type": "code",
   "execution_count": null,
   "metadata": {},
   "outputs": [
    {
     "data": {
      "text/plain": [
       "1"
      ]
     },
     "execution_count": 19,
     "metadata": {},
     "output_type": "execute_result"
    }
   ],
   "source": [
    "# 问题一：翻译一个非英语的句子\n",
    "def test_1():\n",
    "    sentence1 = Sentence(content=[uuid4()], language=\"fr\", sentiment=\"neu\")\n",
    "    question = f\"请你将句子{sentence1.id}翻译为英语\"\n",
    "    def eval_1(submit_sentence_id):\n",
    "        obj = load_object_from_json(submit_sentence_id)\n",
    "        if obj.language == \"en\" and obj.content==sentence1.content:\n",
    "            return 1\n",
    "        else:\n",
    "            return 0\n",
    "    return question, eval_1, [sentence1.id]\n",
    "\n",
    "question, eval_fun, provided_info = test_1()\n",
    "translated_id = translate_tool(provided_info[0], \"en\")\n",
    "eval_fun(translated_id)\n"
   ]
  },
  {
   "cell_type": "code",
   "execution_count": null,
   "metadata": {},
   "outputs": [],
   "source": [
    "# 问题二：将一篇文章从中文翻译为英文，法文，德文,不会超过最大长度限制的版本\n",
    "Chaps = []\n",
    "for i in range(3):\n",
    "    Chap_sentences = []\n",
    "    for i in range(3):\n",
    "        s = Sentence(content=[uuid4()], language=\"zh\")\n",
    "        Chap_sentences.append(s)\n",
    "    chap = Chapter(sentences=Chap_sentences, language=\"zh\")\n",
    "    Chaps.append(chap)\n",
    "article = Article(chapters=Chaps, language=\"zh\")\n",
    "\n",
    "article_en_id = translate_tool(article.id, \"en\")\n",
    "\n",
    "def test_2():\n",
    "    Chaps = []\n",
    "    for i in range(3):\n",
    "        Chap_sentences = []\n",
    "        for i in range(3):\n",
    "            s = Sentence(content=[uuid4()], language=\"zh\")\n",
    "            Chap_sentences.append(s)\n",
    "        chap = Chapter(sentences=Chap_sentences, language=\"zh\")\n",
    "        Chaps.append(chap)\n",
    "    article = Article(chapters=Chaps, language=\"zh\")\n",
    "    question = f\"请你将下面的文章翻译成英文，德文和法文\"\n",
    "    def eval_2(submit_article_ids):\n",
    "        for aid in submit_article_ids:\n",
    "            if \n",
    "        "
   ]
  },
  {
   "cell_type": "code",
   "execution_count": 19,
   "metadata": {},
   "outputs": [
    {
     "name": "stdout",
     "output_type": "stream",
     "text": [
      "1346\n",
      "[UUID('133ddec8-dd02-4b83-a5e3-93eb26af5432'), UUID('be9cca67-90c5-4ac7-aa3a-e5c7e7c1dd65'), UUID('121d0449-c89a-46a8-b51d-34f1a18fd7b2')]\n",
      "fr\n",
      "True\n"
     ]
    }
   ],
   "source": [
    "# 问题三：将一篇文章从中文翻译为英文，法文，德文,会超过最大长度限制的版本\n",
    "Chaps = []\n",
    "for i in range(3):\n",
    "    Chap_sentences = []\n",
    "    for i in range(30):\n",
    "        s = Sentence(content=[uuid4()], language=\"zh\")\n",
    "        Chap_sentences.append(s)\n",
    "    chap = Chapter(sentences=Chap_sentences, language=\"zh\")\n",
    "    Chaps.append(chap)\n",
    "article = Article(chapters=Chaps, language=\"zh\")\n",
    "print(article.word_count)\n",
    "\n",
    "# 解决方案\n",
    "\n",
    "chaps_id = split_article_tool(article.id)\n",
    "print(chaps_id)\n",
    "T_chaps_id = []\n",
    "for chap_id in chaps_id:\n",
    "    translated_chap_id = translate_tool(chap_id, \"fr\") # 涉及到三个语言\n",
    "    T_chaps_id.append(translated_chap_id)\n",
    "translated_article_id = construct_article_tool(chapters_id=T_chaps_id)\n",
    "print(detect_language_tool(translated_article_id))\n",
    "translated_article = load_object_from_json(translated_article_id)\n",
    "print(set(translated_article.content)==set(article.content))"
   ]
  },
  {
   "cell_type": "code",
   "execution_count": 7,
   "metadata": {},
   "outputs": [
    {
     "name": "stdout",
     "output_type": "stream",
     "text": [
      "pos\n",
      "neu\n",
      "neu\n",
      "neu\n",
      "neu\n",
      "neg\n",
      "neg\n",
      "pos\n",
      "neu\n",
      "neg\n",
      "[UUID('9759d751-10cd-4322-b253-60a3866a9ee7'), UUID('3de1e89b-d36d-4359-9a1d-b9adad4c54ce')]\n"
     ]
    }
   ],
   "source": [
    "# 问题四：将所有情感为正向的句子拿出来组成一个篇章\n",
    "Sentences_id = []\n",
    "for i in range(10):\n",
    "    s = Sentence(content=[uuid4()], language=\"zh\")\n",
    "    Sentences_id.append(s.id)\n",
    "\n",
    "# 解决方案\n",
    "Chap_id = []\n",
    "for s_id in Sentences_id:\n",
    "    trans_id = translate_tool(s_id, \"en\")\n",
    "    senti = sentiment_analysis_sentence_tool(trans_id)\n",
    "    print(senti)\n",
    "    if senti==\"pos\":\n",
    "        Chap_id.append(s_id)\n",
    "chap_id = construct_chapter_tool(sentences_id=Chap_id)\n",
    "chap_obj = load_object_from_json(chap_id)\n",
    "print(chap_obj.content)\n",
    "\n"
   ]
  },
  {
   "cell_type": "code",
   "execution_count": 10,
   "metadata": {},
   "outputs": [
    {
     "name": "stdout",
     "output_type": "stream",
     "text": [
      "[Aspect_Sentiment(aspect_term='lunch', opinion='delicious', sentiment='pos'), Aspect_Sentiment(aspect_term='dining hall', opinion='frustrating', sentiment='neg')]\n"
     ]
    }
   ],
   "source": [
    "# 问题五：在句子中，学生表达了什么样的正向观点\n",
    "aos1 = Aspect_Sentiment(aspect_term=\"lunch\", opinion=\"delicious\", sentiment=\"pos\")\n",
    "aos2 = Aspect_Sentiment(aspect_term=\"dining hall\", opinion=\"frustrating\", sentiment=\"neg\")\n",
    "sentence = Sentence(content=[uuid4()], language=\"en\",aspect_based_sent=[aos1, aos2])\n",
    "\n",
    "# 解决方案\n",
    "aos = aspect_based_sentiment_analysis_tool(sentence.id)\n",
    "print(aos)\n"
   ]
  },
  {
   "cell_type": "code",
   "execution_count": 8,
   "metadata": {},
   "outputs": [
    {
     "name": "stdout",
     "output_type": "stream",
     "text": [
      "id=UUID('fb38a6db-d932-4d23-9929-c3959ee29b3b') start_location=Location(id=UUID('d1d1e3b8-9b26-4ea8-a2a6-780f7e6bb0b7'), name='地点A', latitude=34.0522, longitude=-118.2437) end_location=Location(id=UUID('e0b3e13e-6b3e-4a50-9b52-63aee7234735'), name='地点B', latitude=34.0522, longitude=-118.2437) distance=2.2757494702922783 estimated_time=2.2757494702922783\n"
     ]
    }
   ],
   "source": [
    "import uuid\n",
    "from uuid import UUID, uuid4\n",
    "from typing import List, Optional\n",
    "from pydantic import BaseModel, Field, model_validator\n",
    "import random\n",
    "\n",
    "# 模拟地图导航的API\n",
    "\n",
    "class Location(BaseModel):\n",
    "    id: UUID = Field(default_factory=uuid4)\n",
    "    name: str\n",
    "    latitude: float\n",
    "    longitude: float\n",
    "\n",
    "class Route(BaseModel):\n",
    "    id: UUID = Field(default_factory=uuid4)\n",
    "    start_location: Location\n",
    "    end_location: Location\n",
    "    distance: float  # 距离（公里）\n",
    "    estimated_time: float  # 预计时间（分钟）\n",
    "\n",
    "class NavigationRequest(BaseModel):\n",
    "    id: UUID = Field(default_factory=uuid4)\n",
    "    start_location: Location\n",
    "    end_location: Location\n",
    "    mode_of_transport: str  # 交通方式，例如 \"driving\", \"walking\", \"bicycling\"\n",
    "    \n",
    "    @model_validator(mode='before')\n",
    "    @classmethod\n",
    "    def validate_transport_mode(cls, data: dict) -> dict:\n",
    "        valid_modes = ['driving', 'walking', 'bicycling']\n",
    "        if data['mode_of_transport'] not in valid_modes:\n",
    "            raise ValueError(f\"交通方式必须是 {valid_modes}\")\n",
    "        return data\n",
    "\n",
    "def calculate_distance(start: Location, end: Location) -> float:\n",
    "    # 计算两点之间的距离（模拟）\n",
    "    return random.uniform(1.0, 20.0)  # 返回1到20公里之间的随机距离\n",
    "\n",
    "def calculate_estimated_time(distance: float, mode_of_transport: str) -> float:\n",
    "    # 根据交通方式和距离计算预计时间（模拟）\n",
    "    speed = {\n",
    "        'driving': 60,  # 60公里/小时\n",
    "        'walking': 5,   # 5公里/小时\n",
    "        'bicycling': 15  # 15公里/小时\n",
    "    }\n",
    "    return distance / speed[mode_of_transport] * 60  # 返回分钟\n",
    "\n",
    "def create_route(request: NavigationRequest) -> Route:\n",
    "    distance = calculate_distance(request.start_location, request.end_location)\n",
    "    estimated_time = calculate_estimated_time(distance, request.mode_of_transport)\n",
    "    return Route(start_location=request.start_location, end_location=request.end_location, distance=distance, estimated_time=estimated_time)\n",
    "\n",
    "def get_route_details(route_id: UUID) -> Route:\n",
    "    # 模拟获取路线详情\n",
    "    # 实际应用中应从数据库或其他存储中获取\n",
    "    return Route(id=route_id, start_location=Location(name=\"起点\", latitude=0.0, longitude=0.0),\n",
    "                 end_location=Location(name=\"终点\", latitude=1.0, longitude=1.0),\n",
    "                 distance=5.0, estimated_time=10.0)\n",
    "\n",
    "def navigate(request: NavigationRequest) -> Route:\n",
    "    # 处理导航请求\n",
    "    if request.start_location == request.end_location:\n",
    "        raise ValueError(\"起点和终点不能相同\")\n",
    "    \n",
    "    route = create_route(request)\n",
    "    return route\n",
    "\n",
    "# 示例用法\n",
    "location_a = Location(name=\"地点A\", latitude=34.0522, longitude=-118.2437)\n",
    "location_b = Location(name=\"地点B\", latitude=34.0522, longitude=-118.2437)\n",
    "request = NavigationRequest(start_location=location_a, end_location=location_b, mode_of_transport=\"driving\")\n",
    "route = navigate(request)\n",
    "print(route)"
   ]
  }
 ],
 "metadata": {
  "kernelspec": {
   "display_name": "langchain",
   "language": "python",
   "name": "python3"
  },
  "language_info": {
   "codemirror_mode": {
    "name": "ipython",
    "version": 3
   },
   "file_extension": ".py",
   "mimetype": "text/x-python",
   "name": "python",
   "nbconvert_exporter": "python",
   "pygments_lexer": "ipython3",
   "version": "3.11.11"
  }
 },
 "nbformat": 4,
 "nbformat_minor": 2
}
